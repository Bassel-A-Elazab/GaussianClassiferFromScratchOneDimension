{
 "cells": [
  {
   "cell_type": "code",
   "execution_count": 2,
   "metadata": {},
   "outputs": [],
   "source": [
    "import numpy as np\n",
    "import matplotlib.pyplot as plt\n",
    "from scipy import stats\n",
    "import pandas as pd"
   ]
  },
  {
   "cell_type": "code",
   "execution_count": 3,
   "metadata": {},
   "outputs": [
    {
     "data": {
      "text/html": [
       "<div>\n",
       "<style scoped>\n",
       "    .dataframe tbody tr th:only-of-type {\n",
       "        vertical-align: middle;\n",
       "    }\n",
       "\n",
       "    .dataframe tbody tr th {\n",
       "        vertical-align: top;\n",
       "    }\n",
       "\n",
       "    .dataframe thead th {\n",
       "        text-align: right;\n",
       "    }\n",
       "</style>\n",
       "<table border=\"1\" class=\"dataframe\">\n",
       "  <thead>\n",
       "    <tr style=\"text-align: right;\">\n",
       "      <th></th>\n",
       "      <th>Pregnancies</th>\n",
       "      <th>Glucose</th>\n",
       "      <th>BloodPressure</th>\n",
       "      <th>SkinThickness</th>\n",
       "      <th>Insulin</th>\n",
       "      <th>BMI</th>\n",
       "      <th>DiabetesPedigreeFunction</th>\n",
       "      <th>Age</th>\n",
       "      <th>Outcome</th>\n",
       "    </tr>\n",
       "  </thead>\n",
       "  <tbody>\n",
       "    <tr>\n",
       "      <th>0</th>\n",
       "      <td>6</td>\n",
       "      <td>148</td>\n",
       "      <td>72</td>\n",
       "      <td>35</td>\n",
       "      <td>0</td>\n",
       "      <td>33.6</td>\n",
       "      <td>0.627</td>\n",
       "      <td>50</td>\n",
       "      <td>1</td>\n",
       "    </tr>\n",
       "    <tr>\n",
       "      <th>1</th>\n",
       "      <td>1</td>\n",
       "      <td>85</td>\n",
       "      <td>66</td>\n",
       "      <td>29</td>\n",
       "      <td>0</td>\n",
       "      <td>26.6</td>\n",
       "      <td>0.351</td>\n",
       "      <td>31</td>\n",
       "      <td>0</td>\n",
       "    </tr>\n",
       "    <tr>\n",
       "      <th>2</th>\n",
       "      <td>8</td>\n",
       "      <td>183</td>\n",
       "      <td>64</td>\n",
       "      <td>0</td>\n",
       "      <td>0</td>\n",
       "      <td>23.3</td>\n",
       "      <td>0.672</td>\n",
       "      <td>32</td>\n",
       "      <td>1</td>\n",
       "    </tr>\n",
       "    <tr>\n",
       "      <th>3</th>\n",
       "      <td>1</td>\n",
       "      <td>89</td>\n",
       "      <td>66</td>\n",
       "      <td>23</td>\n",
       "      <td>94</td>\n",
       "      <td>28.1</td>\n",
       "      <td>0.167</td>\n",
       "      <td>21</td>\n",
       "      <td>0</td>\n",
       "    </tr>\n",
       "    <tr>\n",
       "      <th>4</th>\n",
       "      <td>0</td>\n",
       "      <td>137</td>\n",
       "      <td>40</td>\n",
       "      <td>35</td>\n",
       "      <td>168</td>\n",
       "      <td>43.1</td>\n",
       "      <td>2.288</td>\n",
       "      <td>33</td>\n",
       "      <td>1</td>\n",
       "    </tr>\n",
       "  </tbody>\n",
       "</table>\n",
       "</div>"
      ],
      "text/plain": [
       "   Pregnancies  Glucose  BloodPressure  SkinThickness  Insulin   BMI  \\\n",
       "0            6      148             72             35        0  33.6   \n",
       "1            1       85             66             29        0  26.6   \n",
       "2            8      183             64              0        0  23.3   \n",
       "3            1       89             66             23       94  28.1   \n",
       "4            0      137             40             35      168  43.1   \n",
       "\n",
       "   DiabetesPedigreeFunction  Age  Outcome  \n",
       "0                     0.627   50        1  \n",
       "1                     0.351   31        0  \n",
       "2                     0.672   32        1  \n",
       "3                     0.167   21        0  \n",
       "4                     2.288   33        1  "
      ]
     },
     "execution_count": 3,
     "metadata": {},
     "output_type": "execute_result"
    }
   ],
   "source": [
    "data_file_name = 'MNIST/diabetes.csv'\n",
    "data = pd.read_csv(data_file_name)\n",
    "data.head()"
   ]
  },
  {
   "cell_type": "code",
   "execution_count": 4,
   "metadata": {},
   "outputs": [
    {
     "name": "stdout",
     "output_type": "stream",
     "text": [
      "Info of MNSIT used it in classifer\n",
      "Number of data : 768, number of training data : 499, and number of test data : 269 \n",
      "classifer used ( BloodPressure )features\n"
     ]
    }
   ],
   "source": [
    "number_train_data = int(len(data)*0.65)\n",
    "number_test_data = len(data) - number_train_data\n",
    "\n",
    "feature_names = data.columns\n",
    "feature_column_name = feature_names[2]\n",
    "label_column_name = data.columns[-1]\n",
    "classes_name = data[label_column_name].unique()\n",
    "\n",
    "train_data = data.iloc[:number_train_data]\n",
    "test_data = data.iloc[number_train_data:]\n",
    "\n",
    "print(\"Info of MNSIT used it in classifer\")\n",
    "print(\"Number of data : %d, number of training data : %d, and number of test data : %d \"%(len(data),len(train_data),len(test_data)))\n",
    "\n",
    "print(\"classifer used ( \"+feature_column_name+\" )features\")"
   ]
  },
  {
   "cell_type": "code",
   "execution_count": 5,
   "metadata": {},
   "outputs": [],
   "source": [
    "class Gaussian_Classifer_One_Dimension:\n",
    "    def __init__(self):\n",
    "        pass\n",
    "    \n",
    "    #creates method that calculates mean (is the average of the number)\n",
    "    def mean(self, numbers):\n",
    "        return sum(numbers)/float(len(numbers))\n",
    "    \n",
    "    #creates method that calculates standard deviation (is a measure of how spread out numbers are.)\n",
    "    def standard_deviation(self, numbers, mu):\n",
    "        sum_number = 0\n",
    "        N_number = 1/(float(len(numbers)))\n",
    "        for i in numbers:\n",
    "            sum_number = sum_number+((i-mu)**2)\n",
    "        return np.sqrt(N_number*sum_number)\n",
    "    \n",
    "    #created method that calculates prior probability (which is the probability of an even \"A\" occurring)\n",
    "    #to use it in fitting model to predict new feature.\n",
    "    def prior_prob(self,data, target, target_column_name, feature_name):\n",
    "        return len(data[data[target_column_name]==target][feature_name])/float(len(data))\n",
    "    \n",
    "    #creates method that calculates density function of model (which is a distribution over real number).\n",
    "    #it's instead of liklihood calcaulation but it is for continous data.\n",
    "    def density_function(self,X_feature, mu, std):\n",
    "        return np.exp(-(X_feature-mu)**2/(2*std**2))*(1/(np.sqrt(2*np.pi)*std))\n",
    "    \n",
    "    #summarize two important paramter in model to fit it.\n",
    "    def summarize_mu_std(self,data, target, target_column_name, feature_name):\n",
    "        mu = dict()\n",
    "        std = dict()\n",
    "        for i in target:\n",
    "            numbers = data[data[target_column_name] == i][feature_name]\n",
    "            mu_class = self.mean(numbers)\n",
    "            std_class = self.standard_deviation(numbers, mu_class)\n",
    "            mu[i] = mu_class\n",
    "            std[i] = std_class\n",
    "        return mu, std\n",
    "    \n",
    "    #creates method that calculates posterior probablity which is used to predict lables.\n",
    "    def predict(self, data, new_x_feature, target, target_column_name, feature_name):\n",
    "        posterior_prob = list()\n",
    "        mu, std = self.summarize_mu_std(data, target, target_column_name, feature_name)\n",
    "        for i in range(len(target)):\n",
    "            posterior_calc = self.density_function(new_x_feature, mu[target[i]], std[target[i]])*\\\n",
    "                             self.prior_prob(data, target[i], target_column_name, feature_name)\n",
    "            posterior_prob.append((posterior_calc,target[i]))\n",
    "        posterior_prob.sort(key=lambda x: x[0], reverse=True)\n",
    "        return posterior_prob[0]\n",
    "    \n",
    "    #creates method that predict new features using scipy libraray and numpy.\n",
    "    def predict_from_scipy(self, data, new_x_feature, target, target_column_name, feature_name):\n",
    "        posterior_prob = list()\n",
    "        for i in range(len(target)):\n",
    "            data_for_each_label = sorted(data[data[target_column_name] == target[i]][feature_name].values)\n",
    "            mu = np.mean(data_for_each_label)\n",
    "            std = np.std(data_for_each_label)\n",
    "            prior_for_each_label = self.prior_prob(data, target[i], target_column_name, feature_name)\n",
    "            posterior_calc = stats.norm.pdf(new_x_feature, loc=mu, scale=std)*prior_for_each_label\n",
    "            posterior_prob.append((posterior_calc,target[i]))\n",
    "        posterior_prob.sort(key=lambda x : x[0], reverse=True)\n",
    "        return posterior_prob[0]\n",
    "    \n",
    "    #creates method that calculates number of correct label predicted to get accuracy of classifer.\n",
    "    def get_accuracy(self,train_data, test_data, target, target_column_name, feature_name):\n",
    "        count_correct_predict = 0\n",
    "        count_correct_predict_scipy = 0\n",
    "        for i in range(len(test_data)):\n",
    "            get_predict = self.predict(train_data, test_data[feature_name].values[i], target, target_column_name, feature_name)\n",
    "            get_predict_scipy = self.predict_from_scipy(train_data, test_data[feature_name].values[i], target, target_column_name, feature_name)\n",
    "            if(get_predict[1] == test_data[target_column_name].values[i]):\n",
    "                count_correct_predict = count_correct_predict+1\n",
    "                \n",
    "            if(get_predict_scipy[1] == test_data[target_column_name].values[i]):\n",
    "                count_correct_predict_scipy = count_correct_predict_scipy+1\n",
    "        Acc_from_implemented = count_correct_predict/len(test_data)\n",
    "        Acc_from_scipy = count_correct_predict_scipy/len(test_data)\n",
    "        return Acc_from_implemented, Acc_from_scipy\n",
    "    \n",
    "    def plot_distribution(self, data, target, target_column_name, feature_name):\n",
    "        mu, std = self.summarize_mu_std(data, target, target_column_name, feature_name)\n",
    "        plt.figure()\n",
    "        for i in range(len(target)):\n",
    "            data_for_each_label = sorted(data[data[target_column_name] == target[i]][feature_name].values)\n",
    "            data_for_each_label = np.array(data_for_each_label)\n",
    "            prior_prob_for_each_label = self.prior_prob(data, target[i], target_column_name, feature_name)\n",
    "            pdf_for_each_label = self.density_function(data_for_each_label, mu[target[i]], std[target[i]])\n",
    "            plt.plot(data_for_each_label, pdf_for_each_label, label = target[i])\n",
    "        plt.legend()\n",
    "        plt.figure()"
   ]
  },
  {
   "cell_type": "code",
   "execution_count": 6,
   "metadata": {},
   "outputs": [
    {
     "data": {
      "image/png": "[encoded data removed]",
      "text/plain": [
       "<Figure size 432x288 with 1 Axes>"
      ]
     },
     "metadata": {
      "needs_background": "light"
     },
     "output_type": "display_data"
    },
    {
     "data": {
      "text/plain": [
       "<Figure size 432x288 with 0 Axes>"
      ]
     },
     "metadata": {},
     "output_type": "display_data"
    }
   ],
   "source": [
    "gs = Gaussian_Classifer_One_Dimension()\n",
    "gs.plot_distribution(train_data, classes_name, label_column_name, feature_column_name)"
   ]
  },
  {
   "cell_type": "code",
   "execution_count": 7,
   "metadata": {},
   "outputs": [
    {
     "name": "stdout",
     "output_type": "stream",
     "text": [
      "Result from my implemented\n",
      "Predict label is : 0, Expected label is : 0\n",
      "\n",
      "Result from scipt library\n",
      "Predict label is : 0, Expected label is : 0\n",
      "\n",
      "---------------------------------------------------\n",
      "Result from my implemented\n",
      "Predict label is : 0, Expected label is : 0\n",
      "\n",
      "Result from scipt library\n",
      "Predict label is : 0, Expected label is : 0\n",
      "\n",
      "---------------------------------------------------\n",
      "Result from my implemented\n",
      "Predict label is : 0, Expected label is : 1\n",
      "\n",
      "Result from scipt library\n",
      "Predict label is : 0, Expected label is : 1\n",
      "\n",
      "---------------------------------------------------\n"
     ]
    }
   ],
   "source": [
    "correct_label = test_data[label_column_name].values[0]\n",
    "test_point = test_data[feature_column_name].values[0]\n",
    "predict_label = gs.predict(train_data, test_point, classes_name, label_column_name, feature_column_name)\n",
    "pred_scipy = gs.predict_from_scipy(train_data, test_point, classes_name, label_column_name, feature_column_name)\n",
    "print(\"Result from my implemented\")\n",
    "print(\"Predict label is : %d, Expected label is : %d\\n\"%(predict_label[1], correct_label))\n",
    "print(\"Result from scipt library\")\n",
    "print(\"Predict label is : %d, Expected label is : %d\\n\"%(pred_scipy[1], correct_label))\n",
    "print(\"---------------------------------------------------\")\n",
    "\n",
    "correct_label = test_data[label_column_name].values[51]\n",
    "test_point = test_data[feature_column_name].values[51]\n",
    "predict_label = gs.predict(train_data, test_point, classes_name, label_column_name, feature_column_name)\n",
    "pred_scipy = gs.predict_from_scipy(train_data, test_point, classes_name, label_column_name, feature_column_name)\n",
    "print(\"Result from my implemented\")\n",
    "print(\"Predict label is : %d, Expected label is : %d\\n\"%(predict_label[1], correct_label))\n",
    "print(\"Result from scipt library\")\n",
    "print(\"Predict label is : %d, Expected label is : %d\\n\"%(pred_scipy[1], correct_label))\n",
    "print(\"---------------------------------------------------\")\n",
    "\n",
    "correct_label = test_data[label_column_name].values[96]\n",
    "test_point = test_data[feature_column_name].values[96]\n",
    "predict_label = gs.predict(train_data, test_point, classes_name, label_column_name, feature_column_name)\n",
    "pred_scipy = gs.predict_from_scipy(train_data, test_point, classes_name, label_column_name, feature_column_name)\n",
    "print(\"Result from my implemented\")\n",
    "print(\"Predict label is : %d, Expected label is : %d\\n\"%(predict_label[1], correct_label))\n",
    "print(\"Result from scipt library\")\n",
    "print(\"Predict label is : %d, Expected label is : %d\\n\"%(pred_scipy[1], correct_label))\n",
    "print(\"---------------------------------------------------\")"
   ]
  },
  {
   "cell_type": "code",
   "execution_count": 8,
   "metadata": {},
   "outputs": [
    {
     "name": "stdout",
     "output_type": "stream",
     "text": [
      "The accuracy of classifer using my implementation is : 66.17100 %\n",
      "The accuracy of classifer using my scipy & numpy lib. is : 66.17100 %\n"
     ]
    }
   ],
   "source": [
    "acc_implemented, acc_scipy = gs.get_accuracy(train_data, test_data, classes_name, label_column_name, feature_column_name)\n",
    "print(\"The accuracy of classifer using my implementation is : %.5f \"%(acc_implemented*100)+\"%\")\n",
    "print(\"The accuracy of classifer using my scipy & numpy lib. is : %.5f \"%(acc_scipy*100)+\"%\")\n"
   ]
  },
  {
   "cell_type": "code",
   "execution_count": 10,
   "metadata": {},
   "outputs": [
    {
     "name": "stdout",
     "output_type": "stream",
     "text": [
      "classifer used ( SkinThickness )features\n",
      "The accuracy of classifer using my implementation is : 67.65799 %\n",
      "The accuracy of classifer using my scipy & numpy lib. is : 67.65799 %\n"
     ]
    },
    {
     "data": {
      "image/png": "[encoded data removed]",
      "text/plain": [
       "<Figure size 432x288 with 1 Axes>"
      ]
     },
     "metadata": {
      "needs_background": "light"
     },
     "output_type": "display_data"
    },
    {
     "data": {
      "text/plain": [
       "<Figure size 432x288 with 0 Axes>"
      ]
     },
     "metadata": {},
     "output_type": "display_data"
    }
   ],
   "source": [
    "feature_column_name = feature_names[3]\n",
    "print(\"classifer used ( \"+feature_column_name+\" )features\")\n",
    "\n",
    "gs.plot_distribution(train_data, classes_name, label_column_name, feature_column_name)\n",
    "\n",
    "acc_implemented, acc_scipy = gs.get_accuracy(train_data, test_data, classes_name, label_column_name, feature_column_name)\n",
    "print(\"The accuracy of classifer using my implementation is : %.5f \"%(acc_implemented*100)+\"%\")\n",
    "print(\"The accuracy of classifer using my scipy & numpy lib. is : %.5f \"%(acc_scipy*100)+\"%\")"
   ]
  },
  {
   "cell_type": "code",
   "execution_count": 11,
   "metadata": {},
   "outputs": [
    {
     "name": "stdout",
     "output_type": "stream",
     "text": [
      "classifer used ( Glucose )features\n",
      "The accuracy of classifer using my implementation is : 79.18216 %\n",
      "The accuracy of classifer using my scipy & numpy lib. is : 79.18216 %\n"
     ]
    },
    {
     "data": {
      "image/png": "[encoded data removed]",
      "text/plain": [
       "<Figure size 432x288 with 1 Axes>"
      ]
     },
     "metadata": {
      "needs_background": "light"
     },
     "output_type": "display_data"
    },
    {
     "data": {
      "text/plain": [
       "<Figure size 432x288 with 0 Axes>"
      ]
     },
     "metadata": {},
     "output_type": "display_data"
    }
   ],
   "source": [
    "feature_column_name = feature_names[1]\n",
    "print(\"classifer used ( \"+feature_column_name+\" )features\")\n",
    "\n",
    "gs.plot_distribution(train_data, classes_name, label_column_name, feature_column_name)\n",
    "\n",
    "acc_implemented, acc_scipy = gs.get_accuracy(train_data, test_data, classes_name, label_column_name, feature_column_name)\n",
    "print(\"The accuracy of classifer using my implementation is : %.5f \"%(acc_implemented*100)+\"%\")\n",
    "print(\"The accuracy of classifer using my scipy & numpy lib. is : %.5f \"%(acc_scipy*100)+\"%\")"
   ]
  },
  {
   "cell_type": "code",
   "execution_count": null,
   "metadata": {},
   "outputs": [],
   "source": []
  }
 ],
 "metadata": {
  "kernelspec": {
   "display_name": "Python 3",
   "language": "python",
   "name": "python3"
  },
  "language_info": {
   "codemirror_mode": {
    "name": "ipython",
    "version": 3
   },
   "file_extension": ".py",
   "mimetype": "text/x-python",
   "name": "python",
   "nbconvert_exporter": "python",
   "pygments_lexer": "ipython3",
   "version": "3.8.2"
  }
 },
 "nbformat": 4,
 "nbformat_minor": 4
}
